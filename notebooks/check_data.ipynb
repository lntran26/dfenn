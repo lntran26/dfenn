{
 "cells": [
  {
   "cell_type": "code",
   "execution_count": 9,
   "metadata": {},
   "outputs": [],
   "source": [
    "import pickle\n",
    "import numpy as np"
   ]
  },
  {
   "cell_type": "code",
   "execution_count": 2,
   "metadata": {},
   "outputs": [],
   "source": [
    "test_data_const_demog = pickle.load(open('../data/trees/test_data.pickle','rb'))\n",
    "# train_data_const_demog = pickle.load(open('../data/trees/train_data.pickle','rb'))\n",
    "# test_data_two_epoch_varied = pickle.load(open('../data/trees/test_data_1B08_varied_scale_2.pickle','rb'))\n",
    "# train_data_two_epoch_varied = pickle.load(open('../data/trees/train_data_1B08_varied_scale_2.pickle','rb'))"
   ]
  },
  {
   "cell_type": "code",
   "execution_count": null,
   "metadata": {},
   "outputs": [],
   "source": [
    "list(test_data_const_demog.keys())[:10]"
   ]
  },
  {
   "cell_type": "code",
   "execution_count": null,
   "metadata": {},
   "outputs": [],
   "source": [
    "list(train_data_const_demog.keys())[:10]"
   ]
  },
  {
   "cell_type": "code",
   "execution_count": null,
   "metadata": {},
   "outputs": [],
   "source": [
    "list(test_data_two_epoch_varied.keys())[:10]"
   ]
  },
  {
   "cell_type": "code",
   "execution_count": null,
   "metadata": {},
   "outputs": [],
   "source": [
    "list(train_data_two_epoch_varied.keys())[:10]"
   ]
  },
  {
   "cell_type": "code",
   "execution_count": 3,
   "metadata": {},
   "outputs": [],
   "source": [
    "ts = test_data_const_demog[(0.03217024708954827, 0.1491846925468981, 0)]"
   ]
  },
  {
   "cell_type": "code",
   "execution_count": 4,
   "metadata": {},
   "outputs": [
    {
     "data": {
      "text/plain": [
       "array([[0, 0, 0, ..., 0, 0, 0],\n",
       "       [1, 0, 0, ..., 0, 0, 0],\n",
       "       [0, 0, 0, ..., 0, 0, 1],\n",
       "       ...,\n",
       "       [1, 0, 0, ..., 0, 0, 0],\n",
       "       [0, 0, 0, ..., 0, 0, 0],\n",
       "       [0, 0, 0, ..., 0, 0, 0]], dtype=int32)"
      ]
     },
     "execution_count": 4,
     "metadata": {},
     "output_type": "execute_result"
    }
   ],
   "source": [
    "haps = ts.genotype_matrix().T\n",
    "haps"
   ]
  },
  {
   "cell_type": "code",
   "execution_count": 5,
   "metadata": {},
   "outputs": [
    {
     "data": {
      "text/plain": [
       "(20, 1889)"
      ]
     },
     "execution_count": 5,
     "metadata": {},
     "output_type": "execute_result"
    }
   ],
   "source": [
    "haps.shape"
   ]
  },
  {
   "cell_type": "code",
   "execution_count": 6,
   "metadata": {},
   "outputs": [
    {
     "data": {
      "text/plain": [
       "1889"
      ]
     },
     "execution_count": 6,
     "metadata": {},
     "output_type": "execute_result"
    }
   ],
   "source": [
    "selection_coeffs = []\n",
    "\n",
    "for mut in ts.mutations():\n",
    "    selection_coeff = sum(\n",
    "        [m.get(\"selection_coeff\") for m in mut.metadata[\"mutation_list\"]]\n",
    "    )\n",
    "    selection_coeffs.append(selection_coeff)\n",
    "\n",
    "len(selection_coeffs)"
   ]
  },
  {
   "cell_type": "code",
   "execution_count": 7,
   "metadata": {},
   "outputs": [
    {
     "data": {
      "text/plain": [
       "[0.0,\n",
       " 0.0,\n",
       " 0.0,\n",
       " 0.0,\n",
       " -1.6856466222847644e-09,\n",
       " -4.769163410855981e-07,\n",
       " -2.3888899747248615e-08,\n",
       " -0.0013001853367313743,\n",
       " -2.8136393666500226e-05,\n",
       " 0.0]"
      ]
     },
     "execution_count": 7,
     "metadata": {},
     "output_type": "execute_result"
    }
   ],
   "source": [
    "selection_coeffs[:10]"
   ]
  },
  {
   "cell_type": "code",
   "execution_count": 8,
   "metadata": {},
   "outputs": [
    {
     "data": {
      "text/plain": [
       "679"
      ]
     },
     "execution_count": 8,
     "metadata": {},
     "output_type": "execute_result"
    }
   ],
   "source": [
    "# get position in haps that is neutral\n",
    "neu_positions = []\n",
    "# for i, (_, s) in enumerate(zip(positions, selection_coeffs)):\n",
    "for i, s in enumerate(selection_coeffs):\n",
    "    if s == 0:\n",
    "        neu_positions.append(i)\n",
    "len(neu_positions)"
   ]
  },
  {
   "cell_type": "code",
   "execution_count": 9,
   "metadata": {},
   "outputs": [
    {
     "data": {
      "text/plain": [
       "[0, 1, 2, 3, 9, 10, 11, 12, 15, 17]"
      ]
     },
     "execution_count": 9,
     "metadata": {},
     "output_type": "execute_result"
    }
   ],
   "source": [
    "neu_positions[:10]"
   ]
  },
  {
   "cell_type": "code",
   "execution_count": 10,
   "metadata": {},
   "outputs": [
    {
     "data": {
      "text/plain": [
       "(6, 2, 2)"
      ]
     },
     "execution_count": 10,
     "metadata": {},
     "output_type": "execute_result"
    }
   ],
   "source": [
    "import numpy as np\n",
    "matrix = np.array([\n",
    "    [[1, 2], [3, 4]],\n",
    "    [[5, 6], [7, 8]],\n",
    "    [[9, 10], [11, 12]],\n",
    "    [[13, 14], [15, 16]],\n",
    "    [[17, 18], [19, 20]],\n",
    "    [[21, 22], [23, 24]],\n",
    "])\n",
    "matrix.shape"
   ]
  },
  {
   "cell_type": "code",
   "execution_count": 11,
   "metadata": {},
   "outputs": [
    {
     "data": {
      "text/plain": [
       "6"
      ]
     },
     "execution_count": 11,
     "metadata": {},
     "output_type": "execute_result"
    }
   ],
   "source": [
    "len(matrix)"
   ]
  },
  {
   "cell_type": "code",
   "execution_count": 15,
   "metadata": {},
   "outputs": [],
   "source": [
    "matrix_pad = np.pad(matrix, ((0,0),(0,3),(0,0)), mode='constant', constant_values=0)"
   ]
  },
  {
   "cell_type": "code",
   "execution_count": 14,
   "metadata": {},
   "outputs": [
    {
     "data": {
      "text/plain": [
       "(6, 2, 2)"
      ]
     },
     "execution_count": 14,
     "metadata": {},
     "output_type": "execute_result"
    }
   ],
   "source": [
    "matrix.shape"
   ]
  },
  {
   "cell_type": "code",
   "execution_count": 16,
   "metadata": {},
   "outputs": [
    {
     "data": {
      "text/plain": [
       "(6, 5, 2)"
      ]
     },
     "execution_count": 16,
     "metadata": {},
     "output_type": "execute_result"
    }
   ],
   "source": [
    "matrix_pad.shape"
   ]
  },
  {
   "cell_type": "code",
   "execution_count": 10,
   "metadata": {},
   "outputs": [],
   "source": [
    "def ts_to_tensor(ts):\n",
    "    \"\"\"\n",
    "    Input: a simulated tree sequence\n",
    "    max_snps: cut off snps window size\n",
    "    Output: a tensor representing non-syn, syn SNP vs ancestral state\n",
    "    \"\"\"\n",
    "\n",
    "    # get haplotype matrix, which has 0 for ancestral and 1 for derived\n",
    "    haps = ts.genotype_matrix().T\n",
    "\n",
    "    # get selection coefficients for all snp positions (columns)\n",
    "    selection_coeffs = []\n",
    "\n",
    "    for mut in ts.mutations():\n",
    "        selection_coeff = sum(\n",
    "            [m.get(\"selection_coeff\") for m in mut.metadata[\"mutation_list\"]]\n",
    "        )\n",
    "        selection_coeffs.append(selection_coeff)\n",
    "    # currently not using position\n",
    "    # positions = [variant.site.position for variant in ts.variants()]\n",
    "\n",
    "    # get position in haps that is neutral\n",
    "    neu_positions = []\n",
    "    # for i, (_, s) in enumerate(zip(positions, selection_coeffs)):\n",
    "    for i, s in enumerate(selection_coeffs):\n",
    "        if s == 0:\n",
    "            neu_positions.append(i)\n",
    "\n",
    "    # save position of fixed SNPs to be removed here\n",
    "    fixed_positions = []\n",
    "    # make two dims with the same shape and values as the haplotype matrix\n",
    "    # ancestral entries of 0 will stay 0 in both dims\n",
    "    # dim_1: 1 only if a position is non-syn SNP (selection coeff != 0), so need to\n",
    "    # set the 1s at neutral positions to 0\n",
    "    # dim_2: 1 only if a position is syn SNP (selection coeff is 0 and is a 1 in haps),\n",
    "    # so need to set the 1s at non-neutral positions to 0\n",
    "    dim_1, dim_2 = haps.copy(), haps.copy()\n",
    "\n",
    "    # iterate through all SNP positions (columns) in matrix\n",
    "    for idx in range(haps.shape[1]):\n",
    "        # get position in haps that have fixed snp (1s in the whole column)\n",
    "        if np.all(haps[:, idx] == 1):\n",
    "            fixed_positions.append(idx)\n",
    "        # if a neutral position, then set dim_1 value to 0 if it's currently 1 (not ancestral)\n",
    "        if idx in neu_positions:\n",
    "            dim_1[:, idx][np.where(haps[:, idx] == 1)] = 0\n",
    "        # if not neutral position (non-syn SNP), then set dim_2 value to 0 if it's currently 1 (not ancestral)\n",
    "        else:\n",
    "            dim_2[:, idx][np.where(haps[:, idx] == 1)] = 0\n",
    "\n",
    "    # stacking dim_1 and dim_2 together to make snp tensor\n",
    "    snp_tensor = np.stack((dim_1, dim_2), axis=-1)\n",
    "\n",
    "    # drop columns that are all 1s (fixed)\n",
    "    new_tensor = np.delete(snp_tensor, fixed_positions, 1)\n",
    "    # if have position vector in the future will have to\n",
    "    # remove the fixed positions accordingly as well\n",
    "\n",
    "    return new_tensor\n",
    "\n",
    "\n",
    "tensor = ts_to_tensor(ts)"
   ]
  },
  {
   "cell_type": "code",
   "execution_count": 11,
   "metadata": {},
   "outputs": [
    {
     "data": {
      "text/plain": [
       "(20, 1413, 2)"
      ]
     },
     "execution_count": 11,
     "metadata": {},
     "output_type": "execute_result"
    }
   ],
   "source": [
    "tensor.shape"
   ]
  },
  {
   "cell_type": "code",
   "execution_count": 42,
   "metadata": {},
   "outputs": [],
   "source": [
    "import numpy as np\n",
    "def chunks(tensor, max_snps):\n",
    "    for i in range(0, tensor.shape[1], 300):\n",
    "        res = (yield tensor[:, i:i+max_snps, :])\n",
    "    "
   ]
  },
  {
   "cell_type": "code",
   "execution_count": 43,
   "metadata": {},
   "outputs": [
    {
     "data": {
      "text/plain": [
       "<generator object chunks at 0x7f7b7768bd40>"
      ]
     },
     "execution_count": 43,
     "metadata": {},
     "output_type": "execute_result"
    }
   ],
   "source": [
    "chunks(tensor, 300)"
   ]
  },
  {
   "cell_type": "code",
   "execution_count": 44,
   "metadata": {},
   "outputs": [
    {
     "data": {
      "text/plain": [
       "5"
      ]
     },
     "execution_count": 44,
     "metadata": {},
     "output_type": "execute_result"
    }
   ],
   "source": [
    "len(list(chunks(tensor, 300)))"
   ]
  },
  {
   "cell_type": "code",
   "execution_count": 47,
   "metadata": {},
   "outputs": [
    {
     "data": {
      "text/plain": [
       "(20, 300, 2)"
      ]
     },
     "execution_count": 47,
     "metadata": {},
     "output_type": "execute_result"
    }
   ],
   "source": [
    "list(chunks(tensor, 300))[2].shape"
   ]
  },
  {
   "cell_type": "code",
   "execution_count": 46,
   "metadata": {},
   "outputs": [
    {
     "data": {
      "text/plain": [
       "(6, 2, 2)"
      ]
     },
     "execution_count": 46,
     "metadata": {},
     "output_type": "execute_result"
    }
   ],
   "source": [
    "list(chunks(matrix, 300))[0].shape"
   ]
  },
  {
   "cell_type": "code",
   "execution_count": 48,
   "metadata": {},
   "outputs": [],
   "source": [
    "def split_long_tensor(tensor, max_snps: int):\n",
    "    \"\"\"\n",
    "    Breaking a long tensor into more reasonable windows\n",
    "    Pad a window with 0s if smalle that max_snps\n",
    "    Input: a list of a single tensor to be split up\n",
    "    Output: a list of broken down tensors\n",
    "    \"\"\"\n",
    "\n",
    "    def _split_tensor(tensor, max_snps: int):\n",
    "        for i in range(0, tensor.shape[1], 300):\n",
    "            res = (yield tensor[:, i:i+max_snps, :])\n",
    "    \n",
    "    cropped_tensor_list = list(_split_tensor(tensor, max_snps))\n",
    "    \n",
    "    # padding as needed\n",
    "    last_tensor = cropped_tensor_list[-1]\n",
    "    if last_tensor.shape[1] < max_snps:\n",
    "        # padd to the max snp size\n",
    "        pad_width = max_snps - last_tensor.shape[1]\n",
    "        padded_tensor = np.pad(\n",
    "            last_tensor,\n",
    "            ((0, 0), (0, pad_width), (0, 0)),\n",
    "            mode=\"constant\",\n",
    "            constant_values=0,\n",
    "        )\n",
    "        # replace this tensor in the list and return\n",
    "        cropped_tensor_list[-1] = padded_tensor\n",
    "    \n",
    "    return cropped_tensor_list"
   ]
  },
  {
   "cell_type": "code",
   "execution_count": 49,
   "metadata": {},
   "outputs": [],
   "source": [
    "split_tensor_slit = split_long_tensor(tensor, 300)"
   ]
  },
  {
   "cell_type": "code",
   "execution_count": 51,
   "metadata": {},
   "outputs": [
    {
     "data": {
      "text/plain": [
       "5"
      ]
     },
     "execution_count": 51,
     "metadata": {},
     "output_type": "execute_result"
    }
   ],
   "source": [
    "len(split_tensor_slit)"
   ]
  },
  {
   "cell_type": "code",
   "execution_count": 52,
   "metadata": {},
   "outputs": [
    {
     "data": {
      "text/plain": [
       "(20, 300, 2)"
      ]
     },
     "execution_count": 52,
     "metadata": {},
     "output_type": "execute_result"
    }
   ],
   "source": [
    "split_tensor_slit[4].shape"
   ]
  },
  {
   "cell_type": "code",
   "execution_count": 53,
   "metadata": {},
   "outputs": [
    {
     "data": {
      "text/plain": [
       "array([[[0, 0],\n",
       "        [0, 0],\n",
       "        [0, 1],\n",
       "        ...,\n",
       "        [0, 0],\n",
       "        [0, 0],\n",
       "        [0, 0]],\n",
       "\n",
       "       [[0, 0],\n",
       "        [1, 0],\n",
       "        [0, 0],\n",
       "        ...,\n",
       "        [0, 0],\n",
       "        [0, 0],\n",
       "        [0, 0]],\n",
       "\n",
       "       [[1, 0],\n",
       "        [0, 0],\n",
       "        [0, 1],\n",
       "        ...,\n",
       "        [0, 0],\n",
       "        [0, 0],\n",
       "        [0, 0]],\n",
       "\n",
       "       ...,\n",
       "\n",
       "       [[0, 0],\n",
       "        [0, 0],\n",
       "        [0, 0],\n",
       "        ...,\n",
       "        [0, 0],\n",
       "        [0, 0],\n",
       "        [0, 0]],\n",
       "\n",
       "       [[0, 0],\n",
       "        [1, 0],\n",
       "        [0, 0],\n",
       "        ...,\n",
       "        [0, 0],\n",
       "        [0, 0],\n",
       "        [0, 0]],\n",
       "\n",
       "       [[1, 0],\n",
       "        [0, 0],\n",
       "        [0, 1],\n",
       "        ...,\n",
       "        [0, 0],\n",
       "        [0, 0],\n",
       "        [0, 0]]], dtype=int32)"
      ]
     },
     "execution_count": 53,
     "metadata": {},
     "output_type": "execute_result"
    }
   ],
   "source": [
    "split_tensor_slit[4]"
   ]
  },
  {
   "cell_type": "code",
   "execution_count": 32,
   "metadata": {},
   "outputs": [
    {
     "data": {
      "image/png": "[encoded data removed]",
      "text/plain": [
       "<Figure size 500x250 with 1 Axes>"
      ]
     },
     "metadata": {},
     "output_type": "display_data"
    }
   ],
   "source": [
    "from matplotlib import pyplot as plt\n",
    "\n",
    "\n",
    "def visualize_snp_tensor(snp_tensor, pixel_size=5):\n",
    "    \"\"\"Expecting input is a 3d snp tensor, where the shape is (h, w, 2)\"\"\"\n",
    "\n",
    "    # Get SNP tensor size\n",
    "    row, col, _ = snp_tensor.shape\n",
    "\n",
    "    # Add a 3rd dimension with zeros (will be the position vector once implemented)\n",
    "    dim_3 = np.zeros((row, col))\n",
    "    img = np.stack((snp_tensor[:, :, 0], snp_tensor[:, :, 1], dim_3), axis=-1).astype(\n",
    "        np.uint8\n",
    "    )\n",
    "\n",
    "    # convert pixel to \"inferno\" color scheme\n",
    "    for i in range(img.shape[0]):\n",
    "        for j in range(img.shape[1]):\n",
    "            if (img[i,j,:] == np.array([1,0,0])).all():\n",
    "                img[i,j,:] = np.array([249, 142, 9])\n",
    "            elif (img[i,j,:] == np.array([0,1,0])).all():\n",
    "                img[i,j,:] = np.array([87, 16, 110])\n",
    "    # Get image size\n",
    "    height, width, channels = img.shape\n",
    "\n",
    "    # Calculate the figure size based on pixel size and image dimensions\n",
    "    fig_width = pixel_size * (width / float(height))\n",
    "    fig_height = pixel_size\n",
    "\n",
    "    # Set the DPI for the figure based on desired pixel size\n",
    "    dpi = 10 * pixel_size\n",
    "\n",
    "    # Create a new figure with the adjusted size and DPI\n",
    "    fig, ax = plt.subplots(figsize=(fig_width, fig_height), dpi=dpi)\n",
    "\n",
    "    # Display the image array as a grayscale image\n",
    "    ax.imshow(img)\n",
    "\n",
    "    # Remove the axis labels and ticks\n",
    "    ax.axis(\"off\")\n",
    "\n",
    "    # Show the plot\n",
    "    plt.show()\n",
    "    \n",
    "visualize_snp_tensor(tensor[:,:40,:])"
   ]
  },
  {
   "cell_type": "code",
   "execution_count": 27,
   "metadata": {},
   "outputs": [
    {
     "data": {
      "text/plain": [
       "array([0, 0], dtype=int32)"
      ]
     },
     "execution_count": 27,
     "metadata": {},
     "output_type": "execute_result"
    }
   ],
   "source": [
    "tensor[0,1,:]"
   ]
  },
  {
   "cell_type": "code",
   "execution_count": 29,
   "metadata": {},
   "outputs": [
    {
     "data": {
      "text/plain": [
       "array([249, 142,   9])"
      ]
     },
     "execution_count": 29,
     "metadata": {},
     "output_type": "execute_result"
    }
   ],
   "source": [
    "np.array((249, 142, 9))"
   ]
  },
  {
   "cell_type": "code",
   "execution_count": 21,
   "metadata": {},
   "outputs": [],
   "source": [
    "tensor_copied = tensor.copy()\n",
    "\n",
    "# get the non-syn and syn hap matrix\n",
    "non_syn_hap = tensor_copied[:, :, 0].T\n",
    "syn_hap = tensor_copied[:, :, 1].T\n"
   ]
  },
  {
   "cell_type": "code",
   "execution_count": 22,
   "metadata": {},
   "outputs": [
    {
     "data": {
      "text/plain": [
       "(1413, 20)"
      ]
     },
     "execution_count": 22,
     "metadata": {},
     "output_type": "execute_result"
    }
   ],
   "source": [
    "non_syn_hap.shape"
   ]
  },
  {
   "cell_type": "code",
   "execution_count": 23,
   "metadata": {},
   "outputs": [],
   "source": [
    "import allel\n",
    "fs_non_syn = allel.sfs(allel.HaplotypeArray(non_syn_hap).count_alleles()[:, 1])[1:]\n",
    "fs_syn = allel.sfs(allel.HaplotypeArray(syn_hap).count_alleles()[:, 1])[1:]"
   ]
  },
  {
   "cell_type": "code",
   "execution_count": 24,
   "metadata": {},
   "outputs": [
    {
     "data": {
      "text/plain": [
       "array([321,  92,  62,  23,  47,  28,   9,  25,  12,  16,  14,  20,  11,\n",
       "        11,   7,  12,   6,   7,  11])"
      ]
     },
     "execution_count": 24,
     "metadata": {},
     "output_type": "execute_result"
    }
   ],
   "source": [
    "fs_non_syn"
   ]
  },
  {
   "cell_type": "code",
   "execution_count": 36,
   "metadata": {},
   "outputs": [
    {
     "data": {
      "text/plain": [
       "19"
      ]
     },
     "execution_count": 36,
     "metadata": {},
     "output_type": "execute_result"
    }
   ],
   "source": [
    "len(fs_non_syn)"
   ]
  },
  {
   "cell_type": "code",
   "execution_count": 37,
   "metadata": {},
   "outputs": [
    {
     "data": {
      "text/plain": [
       "19"
      ]
     },
     "execution_count": 37,
     "metadata": {},
     "output_type": "execute_result"
    }
   ],
   "source": [
    "fs_non_syn.shape[0]"
   ]
  },
  {
   "cell_type": "code",
   "execution_count": 25,
   "metadata": {},
   "outputs": [
    {
     "data": {
      "text/plain": [
       "array([255,  96,  49,  34,  32,  34,  25,  22,  18,  17,  10,  15,   9,\n",
       "        10,   5,   8,  13,  10,  17])"
      ]
     },
     "execution_count": 25,
     "metadata": {},
     "output_type": "execute_result"
    }
   ],
   "source": [
    "fs_syn"
   ]
  },
  {
   "cell_type": "code",
   "execution_count": 39,
   "metadata": {},
   "outputs": [
    {
     "data": {
      "text/plain": [
       "array([255.,  96.,  49.,  34.,  32.,  34.,  25.,  22.,  18.,  17.,  10.,\n",
       "        15.,   9.,  10.,   5.,   8.,  13.,  10.,  17.,   0.,   0.,   0.])"
      ]
     },
     "execution_count": 39,
     "metadata": {},
     "output_type": "execute_result"
    }
   ],
   "source": [
    "np.concatenate((fs_syn, np.zeros(3)))"
   ]
  },
  {
   "cell_type": "code",
   "execution_count": 40,
   "metadata": {},
   "outputs": [
    {
     "data": {
      "text/plain": [
       "array([0., 0., 0.])"
      ]
     },
     "execution_count": 40,
     "metadata": {},
     "output_type": "execute_result"
    }
   ],
   "source": [
    "np.zeros(3)"
   ]
  },
  {
   "cell_type": "code",
   "execution_count": 27,
   "metadata": {},
   "outputs": [
    {
     "data": {
      "text/plain": [
       "array([321,  92,  62,  23,  47,  28,   9,  25,  12,  16,  14,  20,  11,\n",
       "        11,   7,  12,   6,   7,  11, 255,  96,  49,  34,  32,  34,  25,\n",
       "        22,  18,  17,  10,  15,   9,  10,   5,   8,  13,  10,  17])"
      ]
     },
     "execution_count": 27,
     "metadata": {},
     "output_type": "execute_result"
    }
   ],
   "source": [
    "np.concatenate((fs_non_syn, fs_syn))"
   ]
  },
  {
   "cell_type": "code",
   "execution_count": 29,
   "metadata": {},
   "outputs": [
    {
     "data": {
      "text/plain": [
       "array([[321,  92,  62,  23,  47,  28,   9,  25,  12,  16,  14,  20,  11,\n",
       "         11,   7,  12,   6,   7,  11],\n",
       "       [255,  96,  49,  34,  32,  34,  25,  22,  18,  17,  10,  15,   9,\n",
       "         10,   5,   8,  13,  10,  17]])"
      ]
     },
     "execution_count": 29,
     "metadata": {},
     "output_type": "execute_result"
    }
   ],
   "source": [
    "np.stack((fs_non_syn, fs_syn))"
   ]
  },
  {
   "cell_type": "code",
   "execution_count": 31,
   "metadata": {},
   "outputs": [
    {
     "data": {
      "text/plain": [
       "<matplotlib.image.AxesImage at 0x7fd36e6a1490>"
      ]
     },
     "execution_count": 31,
     "metadata": {},
     "output_type": "execute_result"
    },
    {
     "data": {
      "image/png": "[encoded data removed]",
      "text/plain": [
       "<Figure size 640x480 with 1 Axes>"
      ]
     },
     "metadata": {},
     "output_type": "display_data"
    }
   ],
   "source": [
    "from matplotlib import pyplot as plt\n",
    "# Create a new figure with the adjusted size and DPI\n",
    "fig, ax = plt.subplots()\n",
    "\n",
    "# Display the image array as a grayscale image\n",
    "ax.imshow(np.stack((fs_non_syn, fs_syn)))"
   ]
  },
  {
   "cell_type": "code",
   "execution_count": 34,
   "metadata": {},
   "outputs": [
    {
     "data": {
      "text/plain": [
       "<matplotlib.image.AxesImage at 0x7fd36e5c0150>"
      ]
     },
     "execution_count": 34,
     "metadata": {},
     "output_type": "execute_result"
    },
    {
     "data": {
      "text/plain": [
       "<Figure size 640x480 with 0 Axes>"
      ]
     },
     "metadata": {},
     "output_type": "display_data"
    },
    {
     "data": {
      "image/png": "[encoded data removed]",
      "text/plain": [
       "<Figure size 640x480 with 1 Axes>"
      ]
     },
     "metadata": {},
     "output_type": "display_data"
    }
   ],
   "source": [
    "# display img after normalizing\n",
    "afs_arr = np.stack((fs_non_syn, fs_syn))\n",
    "norm = afs_arr / afs_arr.sum()\n",
    "\n",
    "plt.clf()\n",
    "fig, ax = plt.subplots()\n",
    "ax.imshow(norm)"
   ]
  },
  {
   "cell_type": "code",
   "execution_count": 35,
   "metadata": {},
   "outputs": [
    {
     "data": {
      "text/plain": [
       "array([[0.22717622, 0.0651097 , 0.04387827, 0.01627742, 0.03326256,\n",
       "        0.01981599, 0.00636943, 0.01769285, 0.00849257, 0.01132343,\n",
       "        0.009908  , 0.01415428, 0.00778485, 0.00778485, 0.004954  ,\n",
       "        0.00849257, 0.00424628, 0.004954  , 0.00778485],\n",
       "       [0.18046709, 0.06794055, 0.03467799, 0.02406228, 0.02264685,\n",
       "        0.02406228, 0.01769285, 0.01556971, 0.01273885, 0.01203114,\n",
       "        0.00707714, 0.01061571, 0.00636943, 0.00707714, 0.00353857,\n",
       "        0.00566171, 0.00920028, 0.00707714, 0.01203114]])"
      ]
     },
     "execution_count": 35,
     "metadata": {},
     "output_type": "execute_result"
    }
   ],
   "source": [
    "norm"
   ]
  },
  {
   "cell_type": "code",
   "execution_count": 42,
   "metadata": {},
   "outputs": [],
   "source": [
    "a = np.array([1.2790565240624212,0.5316968778007666,0.035221079289616854,1.0670493405657722,\n",
    "              0.20571877243569595,1.0398400908637655,4.345286469631841,1.6511054418096527,\n",
    "              1.1183099082024603,7.193015482072557,0.4117626188555487,.24912296706570797,\n",
    "              0.07998139501300965,0.010850650453046146])"
   ]
  },
  {
   "cell_type": "code",
   "execution_count": 43,
   "metadata": {},
   "outputs": [
    {
     "data": {
      "text/plain": [
       "array([1.279, 0.532, 0.035, 1.067, 0.206, 1.04 , 4.345, 1.651, 1.118,\n",
       "       7.193, 0.412, 0.249, 0.08 , 0.011])"
      ]
     },
     "execution_count": 43,
     "metadata": {},
     "output_type": "execute_result"
    }
   ],
   "source": [
    "a.round(3)"
   ]
  },
  {
   "cell_type": "code",
   "execution_count": 45,
   "metadata": {},
   "outputs": [
    {
     "data": {
      "text/plain": [
       "-0.016"
      ]
     },
     "execution_count": 45,
     "metadata": {},
     "output_type": "execute_result"
    }
   ],
   "source": [
    "round(-0.01567,3)"
   ]
  }
 ],
 "metadata": {
  "kernelspec": {
   "display_name": "dfe-cnn",
   "language": "python",
   "name": "python3"
  },
  "language_info": {
   "codemirror_mode": {
    "name": "ipython",
    "version": 3
   },
   "file_extension": ".py",
   "mimetype": "text/x-python",
   "name": "python",
   "nbconvert_exporter": "python",
   "pygments_lexer": "ipython3",
   "version": "3.11.4"
  },
  "orig_nbformat": 4
 },
 "nbformat": 4,
 "nbformat_minor": 2
}
