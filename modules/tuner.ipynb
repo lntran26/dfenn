{
 "cells": [
  {
   "cell_type": "code",
   "execution_count": 1,
   "metadata": {},
   "outputs": [],
   "source": [
    "import os\n",
    "os.environ[\n",
    "    \"TF_CPP_MIN_LOG_LEVEL\"\n",
    "] = \"3\"  # this is to silence some of TF warning messages\n",
    "import tensorflow as tf\n",
    "from tensorflow import keras\n",
    "from keras import layers, callbacks\n",
    "from keras.models import Sequential\n",
    "import keras_tuner as kt\n",
    "import pickle\n"
   ]
  },
  {
   "cell_type": "code",
   "execution_count": 7,
   "metadata": {},
   "outputs": [],
   "source": [
    "# load training data\n",
    "train_in = pickle.load(open('../data/processed_data/const_demog/train/afs_tensors', 'rb'))\n",
    "train_out = pickle.load(open('../data/processed_data/const_demog/train/afs_labels', 'rb'))"
   ]
  },
  {
   "cell_type": "code",
   "execution_count": 8,
   "metadata": {},
   "outputs": [
    {
     "data": {
      "text/plain": [
       "(500, 2, 19)"
      ]
     },
     "execution_count": 8,
     "metadata": {},
     "output_type": "execute_result"
    }
   ],
   "source": [
    "train_in.shape"
   ]
  },
  {
   "cell_type": "code",
   "execution_count": 9,
   "metadata": {},
   "outputs": [
    {
     "data": {
      "text/plain": [
       "array([[0.18581907, 0.07090465, 0.03178484, 0.01222494, 0.01222494,\n",
       "        0.02200489, 0.00733496, 0.00733496, 0.00855746, 0.00366748,\n",
       "        0.00488998, 0.        , 0.00366748, 0.00244499, 0.00122249,\n",
       "        0.00244499, 0.00488998, 0.00366748, 0.00122249],\n",
       "       [0.21271394, 0.09046455, 0.05378973, 0.05134474, 0.0195599 ,\n",
       "        0.02689487, 0.01100244, 0.0195599 , 0.02200489, 0.01833741,\n",
       "        0.0195599 , 0.00488998, 0.01344743, 0.01100244, 0.00611247,\n",
       "        0.01222494, 0.00488998, 0.01100244, 0.00488998]])"
      ]
     },
     "execution_count": 9,
     "metadata": {},
     "output_type": "execute_result"
    }
   ],
   "source": [
    "train_in[0]"
   ]
  },
  {
   "cell_type": "code",
   "execution_count": 44,
   "metadata": {},
   "outputs": [
    {
     "name": "stdout",
     "output_type": "stream",
     "text": [
      "Model: \"sequential_21\"\n",
      "_________________________________________________________________\n",
      " Layer (type)                Output Shape              Param #   \n",
      "=================================================================\n",
      " conv1d_19 (Conv1D)          (None, 2, 32)             640       \n",
      "                                                                 \n",
      " dropout_10 (Dropout)        (None, 2, 32)             0         \n",
      "                                                                 \n",
      " conv1d_20 (Conv1D)          (None, 1, 16)             1040      \n",
      "                                                                 \n",
      " global_average_pooling1d_9   (None, 16)               0         \n",
      " (GlobalAveragePooling1D)                                        \n"
     ]
    },
    {
     "name": "stdout",
     "output_type": "stream",
     "text": [
      "                                                                 \n",
      " dense_25 (Dense)            (None, 8)                 136       \n",
      "                                                                 \n",
      " dense_26 (Dense)            (None, 2)                 18        \n",
      "                                                                 \n",
      "=================================================================\n",
      "Total params: 1,834\n",
      "Trainable params: 1,834\n",
      "Non-trainable params: 0\n",
      "_________________________________________________________________\n"
     ]
    }
   ],
   "source": [
    "def create_dfe_cnn_afs(input_shape: tuple, n_outputs: int):\n",
    "    model = Sequential()\n",
    "    model.add(\n",
    "        layers.Conv1D(\n",
    "            filters=32,\n",
    "            kernel_size=1,\n",
    "            input_shape=input_shape,\n",
    "            activation=\"relu\",\n",
    "        )\n",
    "    )\n",
    "    model.add(layers.Dropout(0.2))\n",
    "    model.add(layers.Conv1D(filters=16, kernel_size=2, strides=2, activation=\"relu\"))\n",
    "    # model.add(layers.AveragePooling2D(pool_size=(20, 1)))\n",
    "    # model.add(layers.AveragePooling2D(pool_size=(1, 4)))\n",
    "    model.add(layers.GlobalAveragePooling1D())\n",
    "    model.add(layers.Dense(8, activation=\"relu\"))\n",
    "    model.add(layers.Dense(n_outputs, activation=\"relu\"))\n",
    "    model.compile(optimizer=\"adam\", loss=\"mse\", metrics=[\"mean_squared_error\"])\n",
    "\n",
    "    return model, {}\n",
    "\n",
    "input_shape = train_in.shape[1:]\n",
    "model, kwargs = create_dfe_cnn_afs(input_shape, n_outputs=2)\n",
    "model.summary()"
   ]
  },
  {
   "cell_type": "code",
   "execution_count": 41,
   "metadata": {},
   "outputs": [
    {
     "name": "stdout",
     "output_type": "stream",
     "text": [
      "Model: \"sequential_20\"\n",
      "_________________________________________________________________\n",
      " Layer (type)                Output Shape              Param #   \n",
      "=================================================================\n",
      " dense_22 (Dense)            (None, 16)                624       \n",
      "                                                                 \n",
      " dense_23 (Dense)            (None, 8)                 136       \n",
      "                                                                 \n",
      " dense_24 (Dense)            (None, 2)                 18        \n",
      "                                                                 \n",
      "=================================================================\n",
      "Total params: 778\n",
      "Trainable params: 778\n",
      "Non-trainable params: 0\n",
      "_________________________________________________________________\n"
     ]
    }
   ],
   "source": [
    "def create_dfe_mlp_afs(input_shape: tuple, n_outputs: int):\n",
    "    model = Sequential()\n",
    "    model.add(layers.Dense(16, activation='relu', input_shape=input_shape))\n",
    "    model.add(layers.Dense(8, activation='relu'))\n",
    "    model.add(layers.Dense(n_outputs, activation='relu'))\n",
    "    model.compile(optimizer='adam', loss='mse', metrics=['mean_squared_error'])\n",
    "    return model, {}\n",
    "\n",
    "# input_shape = train_in.shape[1:]\n",
    "input_shape = 38,\n",
    "model, kwargs = create_dfe_mlp_afs(input_shape, n_outputs=2)\n",
    "model.summary()"
   ]
  },
  {
   "cell_type": "code",
   "execution_count": 37,
   "metadata": {},
   "outputs": [
    {
     "data": {
      "text/plain": [
       "array([0.18581907, 0.07090465, 0.03178484, 0.01222494, 0.01222494,\n",
       "       0.02200489, 0.00733496, 0.00733496, 0.00855746, 0.00366748,\n",
       "       0.00488998, 0.        , 0.00366748, 0.00244499, 0.00122249,\n",
       "       0.00244499, 0.00488998, 0.00366748, 0.00122249, 0.21271394,\n",
       "       0.09046455, 0.05378973, 0.05134474, 0.0195599 , 0.02689487,\n",
       "       0.01100244, 0.0195599 , 0.02200489, 0.01833741, 0.0195599 ,\n",
       "       0.00488998, 0.01344743, 0.01100244, 0.00611247, 0.01222494,\n",
       "       0.00488998, 0.01100244, 0.00488998])"
      ]
     },
     "execution_count": 37,
     "metadata": {},
     "output_type": "execute_result"
    }
   ],
   "source": [
    "train_in[0].flatten()"
   ]
  },
  {
   "cell_type": "code",
   "execution_count": 40,
   "metadata": {},
   "outputs": [
    {
     "data": {
      "text/plain": [
       "(500, 38)"
      ]
     },
     "execution_count": 40,
     "metadata": {},
     "output_type": "execute_result"
    }
   ],
   "source": [
    "import numpy as np\n",
    "new_train_in = []\n",
    "for data in train_in:\n",
    "    new_train_in.append(data.flatten())\n",
    "np.array(new_train_in).shape"
   ]
  },
  {
   "cell_type": "code",
   "execution_count": 42,
   "metadata": {},
   "outputs": [
    {
     "name": "stdout",
     "output_type": "stream",
     "text": [
      "Epoch 1/30\n",
      "50/50 [==============================] - ETA: 0s - loss: 5.2448 - mean_squared_error: 5.2448WARNING:tensorflow:Early stopping conditioned on metric `val_loss` which is not available. Available metrics are: loss,mean_squared_error\n",
      "50/50 [==============================] - 1s 4ms/step - loss: 5.2448 - mean_squared_error: 5.2448\n",
      "Epoch 2/30\n",
      "47/50 [===========================>..] - ETA: 0s - loss: 5.2523 - mean_squared_error: 5.2523WARNING:tensorflow:Early stopping conditioned on metric `val_loss` which is not available. Available metrics are: loss,mean_squared_error\n",
      "50/50 [==============================] - 0s 5ms/step - loss: 5.2448 - mean_squared_error: 5.2448\n",
      "Epoch 3/30\n",
      "46/50 [==========================>...] - ETA: 0s - loss: 5.2230 - mean_squared_error: 5.2230WARNING:tensorflow:Early stopping conditioned on metric `val_loss` which is not available. Available metrics are: loss,mean_squared_error\n",
      "50/50 [==============================] - 0s 3ms/step - loss: 5.2448 - mean_squared_error: 5.2448\n",
      "Epoch 4/30\n",
      "34/50 [===================>..........] - ETA: 0s - loss: 5.2890 - mean_squared_error: 5.2890WARNING:tensorflow:Early stopping conditioned on metric `val_loss` which is not available. Available metrics are: loss,mean_squared_error\n",
      "50/50 [==============================] - 0s 3ms/step - loss: 5.2448 - mean_squared_error: 5.2448\n",
      "Epoch 5/30\n",
      "48/50 [===========================>..] - ETA: 0s - loss: 5.2084 - mean_squared_error: 5.2084WARNING:tensorflow:Early stopping conditioned on metric `val_loss` which is not available. Available metrics are: loss,mean_squared_error\n",
      "50/50 [==============================] - 0s 3ms/step - loss: 5.2448 - mean_squared_error: 5.2448\n",
      "Epoch 6/30\n",
      "50/50 [==============================] - ETA: 0s - loss: 5.2448 - mean_squared_error: 5.2448WARNING:tensorflow:Early stopping conditioned on metric `val_loss` which is not available. Available metrics are: loss,mean_squared_error\n",
      "50/50 [==============================] - 0s 3ms/step - loss: 5.2448 - mean_squared_error: 5.2448\n",
      "Epoch 7/30\n",
      "50/50 [==============================] - ETA: 0s - loss: 5.2448 - mean_squared_error: 5.2448WARNING:tensorflow:Early stopping conditioned on metric `val_loss` which is not available. Available metrics are: loss,mean_squared_error\n",
      "50/50 [==============================] - 0s 3ms/step - loss: 5.2448 - mean_squared_error: 5.2448\n",
      "Epoch 8/30\n",
      "36/50 [====================>.........] - ETA: 0s - loss: 5.2846 - mean_squared_error: 5.2846WARNING:tensorflow:Early stopping conditioned on metric `val_loss` which is not available. Available metrics are: loss,mean_squared_error\n",
      "50/50 [==============================] - 0s 3ms/step - loss: 5.2448 - mean_squared_error: 5.2448\n",
      "Epoch 9/30\n",
      "50/50 [==============================] - ETA: 0s - loss: 5.2448 - mean_squared_error: 5.2448WARNING:tensorflow:Early stopping conditioned on metric `val_loss` which is not available. Available metrics are: loss,mean_squared_error\n",
      "50/50 [==============================] - 0s 3ms/step - loss: 5.2448 - mean_squared_error: 5.2448\n",
      "Epoch 10/30\n",
      "48/50 [===========================>..] - ETA: 0s - loss: 5.2377 - mean_squared_error: 5.2377WARNING:tensorflow:Early stopping conditioned on metric `val_loss` which is not available. Available metrics are: loss,mean_squared_error\n",
      "50/50 [==============================] - 0s 3ms/step - loss: 5.2448 - mean_squared_error: 5.2448\n",
      "Epoch 11/30\n",
      "35/50 [====================>.........] - ETA: 0s - loss: 5.2630 - mean_squared_error: 5.2630WARNING:tensorflow:Early stopping conditioned on metric `val_loss` which is not available. Available metrics are: loss,mean_squared_error\n",
      "50/50 [==============================] - 0s 3ms/step - loss: 5.2448 - mean_squared_error: 5.2448\n",
      "Epoch 12/30\n",
      "49/50 [============================>.] - ETA: 0s - loss: 5.2359 - mean_squared_error: 5.2359WARNING:tensorflow:Early stopping conditioned on metric `val_loss` which is not available. Available metrics are: loss,mean_squared_error\n",
      "50/50 [==============================] - 0s 3ms/step - loss: 5.2448 - mean_squared_error: 5.2448\n",
      "Epoch 13/30\n",
      "45/50 [==========================>...] - ETA: 0s - loss: 5.2423 - mean_squared_error: 5.2423WARNING:tensorflow:Early stopping conditioned on metric `val_loss` which is not available. Available metrics are: loss,mean_squared_error\n",
      "50/50 [==============================] - 0s 4ms/step - loss: 5.2448 - mean_squared_error: 5.2448\n",
      "Epoch 14/30\n",
      "46/50 [==========================>...] - ETA: 0s - loss: 5.2551 - mean_squared_error: 5.2551WARNING:tensorflow:Early stopping conditioned on metric `val_loss` which is not available. Available metrics are: loss,mean_squared_error\n",
      "50/50 [==============================] - 0s 3ms/step - loss: 5.2448 - mean_squared_error: 5.2448\n",
      "Epoch 15/30\n",
      "40/50 [=======================>......] - ETA: 0s - loss: 5.2474 - mean_squared_error: 5.2474WARNING:tensorflow:Early stopping conditioned on metric `val_loss` which is not available. Available metrics are: loss,mean_squared_error\n",
      "50/50 [==============================] - 0s 4ms/step - loss: 5.2448 - mean_squared_error: 5.2448\n",
      "Epoch 16/30\n",
      "43/50 [========================>.....] - ETA: 0s - loss: 5.2638 - mean_squared_error: 5.2638WARNING:tensorflow:Early stopping conditioned on metric `val_loss` which is not available. Available metrics are: loss,mean_squared_error\n",
      "50/50 [==============================] - 0s 4ms/step - loss: 5.2448 - mean_squared_error: 5.2448\n",
      "Epoch 17/30\n",
      "41/50 [=======================>......] - ETA: 0s - loss: 5.2799 - mean_squared_error: 5.2799WARNING:tensorflow:Early stopping conditioned on metric `val_loss` which is not available. Available metrics are: loss,mean_squared_error\n",
      "50/50 [==============================] - 0s 4ms/step - loss: 5.2448 - mean_squared_error: 5.2448\n",
      "Epoch 18/30\n",
      "47/50 [===========================>..] - ETA: 0s - loss: 5.2197 - mean_squared_error: 5.2197WARNING:tensorflow:Early stopping conditioned on metric `val_loss` which is not available. Available metrics are: loss,mean_squared_error\n",
      "50/50 [==============================] - 0s 3ms/step - loss: 5.2448 - mean_squared_error: 5.2448\n",
      "Epoch 19/30\n",
      "45/50 [==========================>...] - ETA: 0s - loss: 5.2485 - mean_squared_error: 5.2485WARNING:tensorflow:Early stopping conditioned on metric `val_loss` which is not available. Available metrics are: loss,mean_squared_error\n",
      "50/50 [==============================] - 0s 4ms/step - loss: 5.2448 - mean_squared_error: 5.2448\n",
      "Epoch 20/30\n",
      "41/50 [=======================>......] - ETA: 0s - loss: 5.2237 - mean_squared_error: 5.2237WARNING:tensorflow:Early stopping conditioned on metric `val_loss` which is not available. Available metrics are: loss,mean_squared_error\n",
      "50/50 [==============================] - 0s 4ms/step - loss: 5.2448 - mean_squared_error: 5.2448\n",
      "Epoch 21/30\n",
      "46/50 [==========================>...] - ETA: 0s - loss: 5.2517 - mean_squared_error: 5.2517WARNING:tensorflow:Early stopping conditioned on metric `val_loss` which is not available. Available metrics are: loss,mean_squared_error\n",
      "50/50 [==============================] - 0s 4ms/step - loss: 5.2448 - mean_squared_error: 5.2448\n",
      "Epoch 22/30\n",
      "50/50 [==============================] - ETA: 0s - loss: 5.2448 - mean_squared_error: 5.2448WARNING:tensorflow:Early stopping conditioned on metric `val_loss` which is not available. Available metrics are: loss,mean_squared_error\n",
      "50/50 [==============================] - 0s 3ms/step - loss: 5.2448 - mean_squared_error: 5.2448\n",
      "Epoch 23/30\n",
      "46/50 [==========================>...] - ETA: 0s - loss: 5.2599 - mean_squared_error: 5.2599WARNING:tensorflow:Early stopping conditioned on metric `val_loss` which is not available. Available metrics are: loss,mean_squared_error\n",
      "50/50 [==============================] - 0s 3ms/step - loss: 5.2448 - mean_squared_error: 5.2448\n",
      "Epoch 24/30\n",
      "47/50 [===========================>..] - ETA: 0s - loss: 5.2589 - mean_squared_error: 5.2589WARNING:tensorflow:Early stopping conditioned on metric `val_loss` which is not available. Available metrics are: loss,mean_squared_error\n",
      "50/50 [==============================] - 0s 3ms/step - loss: 5.2448 - mean_squared_error: 5.2448\n",
      "Epoch 25/30\n",
      "48/50 [===========================>..] - ETA: 0s - loss: 5.2570 - mean_squared_error: 5.2570WARNING:tensorflow:Early stopping conditioned on metric `val_loss` which is not available. Available metrics are: loss,mean_squared_error\n",
      "50/50 [==============================] - 0s 3ms/step - loss: 5.2448 - mean_squared_error: 5.2448\n",
      "Epoch 26/30\n",
      "39/50 [======================>.......] - ETA: 0s - loss: 5.2168 - mean_squared_error: 5.2168WARNING:tensorflow:Early stopping conditioned on metric `val_loss` which is not available. Available metrics are: loss,mean_squared_error\n",
      "50/50 [==============================] - 0s 4ms/step - loss: 5.2448 - mean_squared_error: 5.2448\n",
      "Epoch 27/30\n",
      "47/50 [===========================>..] - ETA: 0s - loss: 5.2582 - mean_squared_error: 5.2582WARNING:tensorflow:Early stopping conditioned on metric `val_loss` which is not available. Available metrics are: loss,mean_squared_error\n",
      "50/50 [==============================] - 0s 4ms/step - loss: 5.2448 - mean_squared_error: 5.2448\n",
      "Epoch 28/30\n",
      "42/50 [========================>.....] - ETA: 0s - loss: 5.1650 - mean_squared_error: 5.1650WARNING:tensorflow:Early stopping conditioned on metric `val_loss` which is not available. Available metrics are: loss,mean_squared_error\n",
      "50/50 [==============================] - 0s 4ms/step - loss: 5.2448 - mean_squared_error: 5.2448\n",
      "Epoch 29/30\n",
      "48/50 [===========================>..] - ETA: 0s - loss: 5.2166 - mean_squared_error: 5.2166WARNING:tensorflow:Early stopping conditioned on metric `val_loss` which is not available. Available metrics are: loss,mean_squared_error\n",
      "50/50 [==============================] - 0s 3ms/step - loss: 5.2448 - mean_squared_error: 5.2448\n",
      "Epoch 30/30\n",
      "49/50 [============================>.] - ETA: 0s - loss: 5.2329 - mean_squared_error: 5.2329WARNING:tensorflow:Early stopping conditioned on metric `val_loss` which is not available. Available metrics are: loss,mean_squared_error\n",
      "50/50 [==============================] - 0s 3ms/step - loss: 5.2448 - mean_squared_error: 5.2448\n"
     ]
    },
    {
     "data": {
      "text/plain": [
       "<keras.callbacks.History at 0x7fa3ac592450>"
      ]
     },
     "execution_count": 42,
     "metadata": {},
     "output_type": "execute_result"
    }
   ],
   "source": [
    "import numpy as np\n",
    "new_train_in = []\n",
    "for data in train_in:\n",
    "    new_train_in.append(data.flatten())\n",
    "    \n",
    "kwargs.update(\n",
    "    # x=train_in,\n",
    "    x=np.array(new_train_in),\n",
    "    y=train_out,\n",
    "    batch_size=10,\n",
    "    epochs=30,\n",
    "    # validation_data=(test_in, test_out),\n",
    ")\n",
    "\n",
    "# call fit, including any arguments supplied alongside the model\n",
    "callback = callbacks.EarlyStopping(monitor=\"val_loss\", patience=5)\n",
    "model.fit(**kwargs, callbacks=[callback])"
   ]
  },
  {
   "cell_type": "code",
   "execution_count": 45,
   "metadata": {},
   "outputs": [
    {
     "name": "stdout",
     "output_type": "stream",
     "text": [
      "Epoch 1/30\n",
      "50/50 [==============================] - ETA: 0s - loss: 4.9952 - mean_squared_error: 4.9952WARNING:tensorflow:Early stopping conditioned on metric `val_loss` which is not available. Available metrics are: loss,mean_squared_error\n",
      "50/50 [==============================] - 1s 7ms/step - loss: 4.9952 - mean_squared_error: 4.9952\n",
      "Epoch 2/30\n",
      "40/50 [=======================>......] - ETA: 0s - loss: 3.6377 - mean_squared_error: 3.6377WARNING:tensorflow:Early stopping conditioned on metric `val_loss` which is not available. Available metrics are: loss,mean_squared_error\n",
      "50/50 [==============================] - 0s 5ms/step - loss: 3.3400 - mean_squared_error: 3.3400\n",
      "Epoch 3/30\n",
      "47/50 [===========================>..] - ETA: 0s - loss: 0.5932 - mean_squared_error: 0.5932WARNING:tensorflow:Early stopping conditioned on metric `val_loss` which is not available. Available metrics are: loss,mean_squared_error\n",
      "50/50 [==============================] - 0s 5ms/step - loss: 0.5700 - mean_squared_error: 0.5700\n",
      "Epoch 4/30\n",
      "49/50 [============================>.] - ETA: 0s - loss: 0.2019 - mean_squared_error: 0.2019WARNING:tensorflow:Early stopping conditioned on metric `val_loss` which is not available. Available metrics are: loss,mean_squared_error\n",
      "50/50 [==============================] - 0s 4ms/step - loss: 0.2011 - mean_squared_error: 0.2011\n",
      "Epoch 5/30\n",
      "50/50 [==============================] - ETA: 0s - loss: 0.1956 - mean_squared_error: 0.1956WARNING:tensorflow:Early stopping conditioned on metric `val_loss` which is not available. Available metrics are: loss,mean_squared_error\n",
      "50/50 [==============================] - 0s 4ms/step - loss: 0.1956 - mean_squared_error: 0.1956\n",
      "Epoch 6/30\n",
      "45/50 [==========================>...] - ETA: 0s - loss: 0.1986 - mean_squared_error: 0.1986WARNING:tensorflow:Early stopping conditioned on metric `val_loss` which is not available. Available metrics are: loss,mean_squared_error\n",
      "50/50 [==============================] - 0s 5ms/step - loss: 0.1958 - mean_squared_error: 0.1958\n",
      "Epoch 7/30\n",
      "48/50 [===========================>..] - ETA: 0s - loss: 0.1938 - mean_squared_error: 0.1938WARNING:tensorflow:Early stopping conditioned on metric `val_loss` which is not available. Available metrics are: loss,mean_squared_error\n",
      "50/50 [==============================] - 0s 4ms/step - loss: 0.1939 - mean_squared_error: 0.1939\n",
      "Epoch 8/30\n",
      "40/50 [=======================>......] - ETA: 0s - loss: 0.1771 - mean_squared_error: 0.1771WARNING:tensorflow:Early stopping conditioned on metric `val_loss` which is not available. Available metrics are: loss,mean_squared_error\n",
      "50/50 [==============================] - 0s 4ms/step - loss: 0.1805 - mean_squared_error: 0.1805\n",
      "Epoch 9/30\n",
      "41/50 [=======================>......] - ETA: 0s - loss: 0.1884 - mean_squared_error: 0.1884WARNING:tensorflow:Early stopping conditioned on metric `val_loss` which is not available. Available metrics are: loss,mean_squared_error\n",
      "50/50 [==============================] - 0s 4ms/step - loss: 0.1858 - mean_squared_error: 0.1858\n",
      "Epoch 10/30\n",
      "48/50 [===========================>..] - ETA: 0s - loss: 0.1782 - mean_squared_error: 0.1782WARNING:tensorflow:Early stopping conditioned on metric `val_loss` which is not available. Available metrics are: loss,mean_squared_error\n",
      "50/50 [==============================] - 0s 5ms/step - loss: 0.1773 - mean_squared_error: 0.1773\n",
      "Epoch 11/30\n",
      "48/50 [===========================>..] - ETA: 0s - loss: 0.1653 - mean_squared_error: 0.1653WARNING:tensorflow:Early stopping conditioned on metric `val_loss` which is not available. Available metrics are: loss,mean_squared_error\n",
      "50/50 [==============================] - 0s 4ms/step - loss: 0.1625 - mean_squared_error: 0.1625\n",
      "Epoch 12/30\n",
      "38/50 [=====================>........] - ETA: 0s - loss: 0.1755 - mean_squared_error: 0.1755WARNING:tensorflow:Early stopping conditioned on metric `val_loss` which is not available. Available metrics are: loss,mean_squared_error\n",
      "50/50 [==============================] - 0s 4ms/step - loss: 0.1727 - mean_squared_error: 0.1727\n",
      "Epoch 13/30\n",
      "39/50 [======================>.......] - ETA: 0s - loss: 0.1683 - mean_squared_error: 0.1683WARNING:tensorflow:Early stopping conditioned on metric `val_loss` which is not available. Available metrics are: loss,mean_squared_error\n",
      "50/50 [==============================] - 0s 4ms/step - loss: 0.1679 - mean_squared_error: 0.1679\n",
      "Epoch 14/30\n",
      "48/50 [===========================>..] - ETA: 0s - loss: 0.1598 - mean_squared_error: 0.1598WARNING:tensorflow:Early stopping conditioned on metric `val_loss` which is not available. Available metrics are: loss,mean_squared_error\n",
      "50/50 [==============================] - 0s 4ms/step - loss: 0.1595 - mean_squared_error: 0.1595\n",
      "Epoch 15/30\n",
      "44/50 [=========================>....] - ETA: 0s - loss: 0.1573 - mean_squared_error: 0.1573WARNING:tensorflow:Early stopping conditioned on metric `val_loss` which is not available. Available metrics are: loss,mean_squared_error\n",
      "50/50 [==============================] - 0s 5ms/step - loss: 0.1547 - mean_squared_error: 0.1547\n",
      "Epoch 16/30\n",
      "44/50 [=========================>....] - ETA: 0s - loss: 0.1487 - mean_squared_error: 0.1487WARNING:tensorflow:Early stopping conditioned on metric `val_loss` which is not available. Available metrics are: loss,mean_squared_error\n",
      "50/50 [==============================] - 0s 5ms/step - loss: 0.1534 - mean_squared_error: 0.1534\n",
      "Epoch 17/30\n",
      "40/50 [=======================>......] - ETA: 0s - loss: 0.1501 - mean_squared_error: 0.1501WARNING:tensorflow:Early stopping conditioned on metric `val_loss` which is not available. Available metrics are: loss,mean_squared_error\n",
      "50/50 [==============================] - 0s 4ms/step - loss: 0.1609 - mean_squared_error: 0.1609\n",
      "Epoch 18/30\n",
      "45/50 [==========================>...] - ETA: 0s - loss: 0.1630 - mean_squared_error: 0.1630WARNING:tensorflow:Early stopping conditioned on metric `val_loss` which is not available. Available metrics are: loss,mean_squared_error\n",
      "50/50 [==============================] - 0s 5ms/step - loss: 0.1615 - mean_squared_error: 0.1615\n",
      "Epoch 19/30\n",
      "43/50 [========================>.....] - ETA: 0s - loss: 0.1432 - mean_squared_error: 0.1432WARNING:tensorflow:Early stopping conditioned on metric `val_loss` which is not available. Available metrics are: loss,mean_squared_error\n",
      "50/50 [==============================] - 0s 5ms/step - loss: 0.1399 - mean_squared_error: 0.1399\n",
      "Epoch 20/30\n",
      "43/50 [========================>.....] - ETA: 0s - loss: 0.1401 - mean_squared_error: 0.1401WARNING:tensorflow:Early stopping conditioned on metric `val_loss` which is not available. Available metrics are: loss,mean_squared_error\n",
      "50/50 [==============================] - 0s 5ms/step - loss: 0.1415 - mean_squared_error: 0.1415\n",
      "Epoch 21/30\n",
      "46/50 [==========================>...] - ETA: 0s - loss: 0.1520 - mean_squared_error: 0.1520WARNING:tensorflow:Early stopping conditioned on metric `val_loss` which is not available. Available metrics are: loss,mean_squared_error\n",
      "50/50 [==============================] - 0s 5ms/step - loss: 0.1495 - mean_squared_error: 0.1495\n",
      "Epoch 22/30\n",
      "46/50 [==========================>...] - ETA: 0s - loss: 0.1369 - mean_squared_error: 0.1369WARNING:tensorflow:Early stopping conditioned on metric `val_loss` which is not available. Available metrics are: loss,mean_squared_error\n",
      "50/50 [==============================] - 0s 5ms/step - loss: 0.1396 - mean_squared_error: 0.1396\n",
      "Epoch 23/30\n",
      "45/50 [==========================>...] - ETA: 0s - loss: 0.1374 - mean_squared_error: 0.1374WARNING:tensorflow:Early stopping conditioned on metric `val_loss` which is not available. Available metrics are: loss,mean_squared_error\n",
      "50/50 [==============================] - 0s 5ms/step - loss: 0.1397 - mean_squared_error: 0.1397\n",
      "Epoch 24/30\n",
      "46/50 [==========================>...] - ETA: 0s - loss: 0.1347 - mean_squared_error: 0.1347WARNING:tensorflow:Early stopping conditioned on metric `val_loss` which is not available. Available metrics are: loss,mean_squared_error\n",
      "50/50 [==============================] - 0s 5ms/step - loss: 0.1352 - mean_squared_error: 0.1352\n",
      "Epoch 25/30\n",
      "47/50 [===========================>..] - ETA: 0s - loss: 0.1301 - mean_squared_error: 0.1301WARNING:tensorflow:Early stopping conditioned on metric `val_loss` which is not available. Available metrics are: loss,mean_squared_error\n",
      "50/50 [==============================] - 0s 5ms/step - loss: 0.1281 - mean_squared_error: 0.1281\n",
      "Epoch 26/30\n",
      "46/50 [==========================>...] - ETA: 0s - loss: 0.1238 - mean_squared_error: 0.1238WARNING:tensorflow:Early stopping conditioned on metric `val_loss` which is not available. Available metrics are: loss,mean_squared_error\n",
      "50/50 [==============================] - 0s 5ms/step - loss: 0.1239 - mean_squared_error: 0.1239\n",
      "Epoch 27/30\n",
      "47/50 [===========================>..] - ETA: 0s - loss: 0.1337 - mean_squared_error: 0.1337WARNING:tensorflow:Early stopping conditioned on metric `val_loss` which is not available. Available metrics are: loss,mean_squared_error\n",
      "50/50 [==============================] - 0s 5ms/step - loss: 0.1361 - mean_squared_error: 0.1361\n",
      "Epoch 28/30\n",
      "47/50 [===========================>..] - ETA: 0s - loss: 0.1292 - mean_squared_error: 0.1292WARNING:tensorflow:Early stopping conditioned on metric `val_loss` which is not available. Available metrics are: loss,mean_squared_error\n",
      "50/50 [==============================] - 0s 5ms/step - loss: 0.1319 - mean_squared_error: 0.1319\n",
      "Epoch 29/30\n",
      "47/50 [===========================>..] - ETA: 0s - loss: 0.1288 - mean_squared_error: 0.1288WARNING:tensorflow:Early stopping conditioned on metric `val_loss` which is not available. Available metrics are: loss,mean_squared_error\n",
      "50/50 [==============================] - 0s 5ms/step - loss: 0.1262 - mean_squared_error: 0.1262\n",
      "Epoch 30/30\n",
      "47/50 [===========================>..] - ETA: 0s - loss: 0.1207 - mean_squared_error: 0.1207WARNING:tensorflow:Early stopping conditioned on metric `val_loss` which is not available. Available metrics are: loss,mean_squared_error\n",
      "50/50 [==============================] - 0s 4ms/step - loss: 0.1215 - mean_squared_error: 0.1215\n"
     ]
    },
    {
     "data": {
      "text/plain": [
       "<keras.callbacks.History at 0x7fa3cc112dd0>"
      ]
     },
     "execution_count": 45,
     "metadata": {},
     "output_type": "execute_result"
    }
   ],
   "source": [
    "kwargs.update(\n",
    "    x=train_in,\n",
    "    y=train_out,\n",
    "    batch_size=10,\n",
    "    epochs=30,\n",
    "    # validation_data=(test_in, test_out),\n",
    ")\n",
    "\n",
    "# call fit, including any arguments supplied alongside the model\n",
    "callback = callbacks.EarlyStopping(monitor=\"val_loss\", patience=5)\n",
    "model.fit(**kwargs, callbacks=[callback])"
   ]
  },
  {
   "cell_type": "code",
   "execution_count": 47,
   "metadata": {},
   "outputs": [
    {
     "name": "stderr",
     "output_type": "stream",
     "text": [
      "WARNING:absl:Found untraced functions such as _jit_compiled_convolution_op, _jit_compiled_convolution_op while saving (showing 2 of 2). These functions will not be directly callable after loading.\n"
     ]
    },
    {
     "name": "stdout",
     "output_type": "stream",
     "text": [
      "INFO:tensorflow:Assets written to: ../results/const_demog_trained_afs/assets\n"
     ]
    },
    {
     "name": "stderr",
     "output_type": "stream",
     "text": [
      "INFO:tensorflow:Assets written to: ../results/const_demog_trained_afs/assets\n"
     ]
    },
    {
     "ename": "",
     "evalue": "",
     "output_type": "error",
     "traceback": [
      "\u001b[1;31mThe Kernel crashed while executing code in the the current cell or a previous cell. Please review the code in the cell(s) to identify a possible cause of the failure. Click <a href='https://aka.ms/vscodeJupyterKernelCrash'>here</a> for more info. View Jupyter <a href='command:jupyter.viewOutput'>log</a> for further details."
     ]
    }
   ],
   "source": [
    "model.save(\"../results/const_demog_trained_afs\")"
   ]
  },
  {
   "cell_type": "code",
   "execution_count": 24,
   "metadata": {},
   "outputs": [],
   "source": [
    "# load test data \n",
    "test_in = pickle.load(open('../data/processed_data/const_demog/test/afs_tensors', 'rb'))\n",
    "test_out = pickle.load(open('../data/processed_data/const_demog/test/afs_labels', 'rb'))"
   ]
  },
  {
   "cell_type": "code",
   "execution_count": 46,
   "metadata": {},
   "outputs": [
    {
     "name": "stdout",
     "output_type": "stream",
     "text": [
      "2/2 [==============================] - 0s 2ms/step\n"
     ]
    },
    {
     "name": "stderr",
     "output_type": "stream",
     "text": [
      "/mnt/c/Users/Linh/OneDrive/projects/dfe-cnn/modules/validate.py:133: UserWarning: The figure layout has changed to tight\n",
      "  plt.tight_layout()\n"
     ]
    },
    {
     "data": {
      "text/plain": [
       "<Figure size 640x480 with 0 Axes>"
      ]
     },
     "metadata": {},
     "output_type": "display_data"
    },
    {
     "data": {
      "text/plain": [
       "<Figure size 640x480 with 0 Axes>"
      ]
     },
     "metadata": {},
     "output_type": "display_data"
    },
    {
     "data": {
      "text/plain": [
       "<Figure size 640x480 with 0 Axes>"
      ]
     },
     "metadata": {},
     "output_type": "display_data"
    },
    {
     "data": {
      "text/plain": [
       "<Figure size 640x480 with 0 Axes>"
      ]
     },
     "metadata": {},
     "output_type": "display_data"
    },
    {
     "data": {
      "text/plain": [
       "<Figure size 640x480 with 0 Axes>"
      ]
     },
     "metadata": {},
     "output_type": "display_data"
    },
    {
     "data": {
      "image/png": "[encoded data removed]",
      "text/plain": [
       "<Figure size 640x480 with 1 Axes>"
      ]
     },
     "metadata": {},
     "output_type": "display_data"
    }
   ],
   "source": [
    "from validate import plot_all_gamma_results\n",
    "plot_all_gamma_results(model, test_in, test_out, '../results/plots/afs')"
   ]
  },
  {
   "cell_type": "code",
   "execution_count": 2,
   "metadata": {},
   "outputs": [],
   "source": [
    "# load training data\n",
    "train_in = pickle.load(open('../data/processed_data/const_demog/train/tensors', 'rb'))\n",
    "train_out = pickle.load(open('../data/processed_data/const_demog/train/labels', 'rb'))\n"
   ]
  },
  {
   "cell_type": "code",
   "execution_count": 3,
   "metadata": {},
   "outputs": [
    {
     "data": {
      "text/plain": [
       "(2423, 20, 300, 2)"
      ]
     },
     "execution_count": 3,
     "metadata": {},
     "output_type": "execute_result"
    }
   ],
   "source": [
    "train_in.shape"
   ]
  },
  {
   "cell_type": "code",
   "execution_count": null,
   "metadata": {},
   "outputs": [],
   "source": [
    "create_dfe_cnn_afs(input_shape: tuple, n_outputs: int)"
   ]
  },
  {
   "cell_type": "code",
   "execution_count": 4,
   "metadata": {},
   "outputs": [
    {
     "data": {
      "image/png": "[encoded data removed]",
      "text/plain": [
       "<Figure size 3750x250 with 1 Axes>"
      ]
     },
     "metadata": {},
     "output_type": "display_data"
    }
   ],
   "source": [
    "from process_data import visualize_snp_tensor\n",
    "\n",
    "visualize_snp_tensor(train_in[0][:30])"
   ]
  },
  {
   "cell_type": "code",
   "execution_count": 5,
   "metadata": {},
   "outputs": [
    {
     "data": {
      "image/png": "[encoded data removed]",
      "text/plain": [
       "<Figure size 3750x250 with 1 Axes>"
      ]
     },
     "metadata": {},
     "output_type": "display_data"
    }
   ],
   "source": [
    "visualize_snp_tensor(train_in[1][:30])"
   ]
  },
  {
   "cell_type": "code",
   "execution_count": 9,
   "metadata": {},
   "outputs": [],
   "source": [
    "def model_builder(hp):\n",
    "    input_shape = (20, 300, 2)\n",
    "    model = Sequential()\n",
    "    model.add(\n",
    "        layers.Conv1D(\n",
    "            filters=64,\n",
    "            kernel_size=5,\n",
    "            strides=2,\n",
    "            input_shape=input_shape,\n",
    "            activation=\"relu\",\n",
    "        )\n",
    "    )\n",
    "    # A hyperparamter for whether to use dropout layer.\n",
    "    if hp.Boolean(\"dropout\"):\n",
    "        model.add(layers.Dropout(0.2))\n",
    "    model.add(layers.Conv1D(filters=32, kernel_size=3, activation=\"relu\"))\n",
    "    model.add(layers.Conv1D(filters=16, kernel_size=2, strides=2, activation=\"relu\"))\n",
    "    model.add(layers.AveragePooling2D(pool_size=(20, 1)))\n",
    "    model.add(layers.AveragePooling2D(pool_size=(1, 4)))\n",
    "    model.add(layers.GlobalAveragePooling2D())\n",
    "    model.add(layers.Dense(2, activation=\"relu\"))\n",
    "\n",
    "    # Tune the learning rate for the optimizer\n",
    "    # Choose an optimal value from 0.01, 0.001, or 0.0001\n",
    "    # hp_learning_rate = hp.Choice(\"learning_rate\", values=[1e-2, 1e-3, 1e-4])\n",
    "    # Tune the learning rate for the optimizer\n",
    "    hp_learning_rate = hp.Float(\n",
    "        \"learning_rate\", min_value=1e-4, max_value=1e2, step=10, sampling=\"log\"\n",
    "    )\n",
    "\n",
    "    model.compile(\n",
    "        optimizer=keras.optimizers.Adam(learning_rate=hp_learning_rate),\n",
    "        loss=\"mse\",\n",
    "        metrics=[\"mean_squared_error\"],\n",
    "    )\n",
    "\n",
    "    return model"
   ]
  },
  {
   "cell_type": "code",
   "execution_count": 22,
   "metadata": {},
   "outputs": [
    {
     "name": "stdout",
     "output_type": "stream",
     "text": [
      "The hyperparameter search is complete.    The optimal learning rate for the optimizer is 0.001.        Dropout: True\n"
     ]
    }
   ],
   "source": [
    "print(f\"The hyperparameter search is complete.\\\n",
    "    The optimal learning rate for the optimizer is {best_hps.get('learning_rate')}.\\\n",
    "        Dropout: {best_hps.get('dropout')}\")"
   ]
  },
  {
   "cell_type": "code",
   "execution_count": 10,
   "metadata": {},
   "outputs": [
    {
     "name": "stdout",
     "output_type": "stream",
     "text": [
      "Trial 18 Complete [00h 00m 04s]\n",
      "val_loss: 6.08924674987793\n",
      "\n",
      "Best val_loss So Far: 0.628040075302124\n",
      "Total elapsed time: 00h 01m 11s\n",
      "INFO:tensorflow:Oracle triggered exit\n",
      "The hyperparameter search is complete.\n",
      "<keras_tuner.engine.hyperparameters.hyperparameters.HyperParameters object at 0x7ffa582d3090>\n",
      "Epoch 1/30\n",
      "53/53 [==============================] - 2s 11ms/step - loss: 2.4572 - mean_squared_error: 2.4572 - val_loss: 0.6972 - val_mean_squared_error: 0.6972\n",
      "Epoch 2/30\n",
      "53/53 [==============================] - 0s 9ms/step - loss: 0.5436 - mean_squared_error: 0.5436 - val_loss: 0.6626 - val_mean_squared_error: 0.6626\n",
      "Epoch 3/30\n",
      "53/53 [==============================] - 0s 9ms/step - loss: 0.5101 - mean_squared_error: 0.5101 - val_loss: 0.6454 - val_mean_squared_error: 0.6454\n",
      "Epoch 4/30\n",
      "53/53 [==============================] - 0s 9ms/step - loss: 0.4926 - mean_squared_error: 0.4926 - val_loss: 0.6363 - val_mean_squared_error: 0.6363\n",
      "Epoch 5/30\n",
      "53/53 [==============================] - 0s 9ms/step - loss: 0.4836 - mean_squared_error: 0.4836 - val_loss: 0.6328 - val_mean_squared_error: 0.6328\n",
      "Epoch 6/30\n",
      "53/53 [==============================] - 0s 9ms/step - loss: 0.4785 - mean_squared_error: 0.4785 - val_loss: 0.6313 - val_mean_squared_error: 0.6313\n",
      "Epoch 7/30\n",
      "53/53 [==============================] - 0s 9ms/step - loss: 0.4761 - mean_squared_error: 0.4761 - val_loss: 0.6305 - val_mean_squared_error: 0.6305\n",
      "Epoch 8/30\n",
      "53/53 [==============================] - 0s 9ms/step - loss: 0.4759 - mean_squared_error: 0.4759 - val_loss: 0.6334 - val_mean_squared_error: 0.6334\n",
      "Epoch 9/30\n",
      "53/53 [==============================] - 0s 9ms/step - loss: 0.4758 - mean_squared_error: 0.4758 - val_loss: 0.6303 - val_mean_squared_error: 0.6303\n",
      "Epoch 10/30\n",
      "53/53 [==============================] - 0s 8ms/step - loss: 0.4779 - mean_squared_error: 0.4779 - val_loss: 0.6313 - val_mean_squared_error: 0.6313\n",
      "Epoch 11/30\n",
      "53/53 [==============================] - 0s 9ms/step - loss: 0.4759 - mean_squared_error: 0.4759 - val_loss: 0.6371 - val_mean_squared_error: 0.6371\n",
      "Epoch 12/30\n",
      "53/53 [==============================] - 0s 9ms/step - loss: 0.4762 - mean_squared_error: 0.4762 - val_loss: 0.6459 - val_mean_squared_error: 0.6459\n",
      "Epoch 13/30\n",
      "53/53 [==============================] - 0s 9ms/step - loss: 0.4753 - mean_squared_error: 0.4753 - val_loss: 0.6313 - val_mean_squared_error: 0.6313\n",
      "Epoch 14/30\n",
      "53/53 [==============================] - 0s 9ms/step - loss: 0.4763 - mean_squared_error: 0.4763 - val_loss: 0.6339 - val_mean_squared_error: 0.6339\n",
      "Epoch 15/30\n",
      "53/53 [==============================] - 0s 8ms/step - loss: 0.4752 - mean_squared_error: 0.4752 - val_loss: 0.6299 - val_mean_squared_error: 0.6299\n",
      "Epoch 16/30\n",
      "53/53 [==============================] - 0s 8ms/step - loss: 0.4749 - mean_squared_error: 0.4749 - val_loss: 0.6527 - val_mean_squared_error: 0.6527\n",
      "Epoch 17/30\n",
      "53/53 [==============================] - 0s 9ms/step - loss: 0.4777 - mean_squared_error: 0.4777 - val_loss: 0.6306 - val_mean_squared_error: 0.6306\n",
      "Epoch 18/30\n",
      "53/53 [==============================] - 0s 8ms/step - loss: 0.4747 - mean_squared_error: 0.4747 - val_loss: 0.6351 - val_mean_squared_error: 0.6351\n",
      "Epoch 19/30\n",
      "53/53 [==============================] - 0s 8ms/step - loss: 0.4753 - mean_squared_error: 0.4753 - val_loss: 0.6291 - val_mean_squared_error: 0.6291\n",
      "Epoch 20/30\n",
      "53/53 [==============================] - 0s 9ms/step - loss: 0.4762 - mean_squared_error: 0.4762 - val_loss: 0.6291 - val_mean_squared_error: 0.6291\n",
      "Epoch 21/30\n",
      "53/53 [==============================] - 0s 8ms/step - loss: 0.4753 - mean_squared_error: 0.4753 - val_loss: 0.6294 - val_mean_squared_error: 0.6294\n",
      "Epoch 22/30\n",
      "53/53 [==============================] - 0s 8ms/step - loss: 0.4744 - mean_squared_error: 0.4744 - val_loss: 0.6290 - val_mean_squared_error: 0.6290\n",
      "Epoch 23/30\n",
      "53/53 [==============================] - 0s 8ms/step - loss: 0.4774 - mean_squared_error: 0.4774 - val_loss: 0.6285 - val_mean_squared_error: 0.6285\n",
      "Epoch 24/30\n",
      "53/53 [==============================] - 0s 9ms/step - loss: 0.4759 - mean_squared_error: 0.4759 - val_loss: 0.6308 - val_mean_squared_error: 0.6308\n",
      "Epoch 25/30\n",
      "53/53 [==============================] - 0s 9ms/step - loss: 0.4751 - mean_squared_error: 0.4751 - val_loss: 0.6291 - val_mean_squared_error: 0.6291\n",
      "Epoch 26/30\n",
      "53/53 [==============================] - 0s 8ms/step - loss: 0.4752 - mean_squared_error: 0.4752 - val_loss: 0.6387 - val_mean_squared_error: 0.6387\n",
      "Epoch 27/30\n",
      "53/53 [==============================] - 0s 9ms/step - loss: 0.4751 - mean_squared_error: 0.4751 - val_loss: 0.6339 - val_mean_squared_error: 0.6339\n",
      "Epoch 28/30\n",
      "53/53 [==============================] - 0s 8ms/step - loss: 0.4749 - mean_squared_error: 0.4749 - val_loss: 0.6299 - val_mean_squared_error: 0.6299\n",
      "Epoch 29/30\n",
      "53/53 [==============================] - 0s 9ms/step - loss: 0.4739 - mean_squared_error: 0.4739 - val_loss: 0.6278 - val_mean_squared_error: 0.6278\n",
      "Epoch 30/30\n",
      "53/53 [==============================] - 0s 9ms/step - loss: 0.4780 - mean_squared_error: 0.4780 - val_loss: 0.6291 - val_mean_squared_error: 0.6291\n",
      "Best epoch: 1\n",
      "53/53 [==============================] - 2s 12ms/step - loss: 2.2528 - mean_squared_error: 2.2528 - val_loss: 0.7740 - val_mean_squared_error: 0.7740\n"
     ]
    },
    {
     "data": {
      "text/plain": [
       "<keras.callbacks.History at 0x7ff9940d8390>"
      ]
     },
     "execution_count": 10,
     "metadata": {},
     "output_type": "execute_result"
    }
   ],
   "source": [
    "# instantiate the Hyperband tuner\n",
    "tuner = kt.Hyperband(model_builder,\n",
    "                objective='val_loss',\n",
    "                max_epochs=20)\n",
    "\n",
    "# Create a callback to stop training early after reaching a certain value for the val_loss\n",
    "stop_early = tf.keras.callbacks.EarlyStopping(monitor='val_loss', patience=5)\n",
    "\n",
    "# Run the hyperparameter search\n",
    "tuner.search(train_in, train_out, epochs=30, validation_split=0.3, callbacks=[stop_early])\n",
    "\n",
    "# Get the optimal hyperparameters\n",
    "best_hps=tuner.get_best_hyperparameters(num_trials=1)[0]\n",
    "print(f\"The hyperparameter search is complete.\\\n",
    "    The optimal learning rate for the optimizer is {best_hps.get('learning_rate')}.\\\n",
    "        Dropout: {best_hps.get('dropout')}\")\n",
    "\n",
    "\n",
    "# Build the model with the optimal hyperparameters and train it on the data\n",
    "model = tuner.hypermodel.build(best_hps)\n",
    "history = model.fit(train_in, train_out, epochs=30, validation_split=0.3)\n",
    "\n",
    "# Find the optimal number of epochs to train the model\n",
    "val_loss_per_epoch = history.history['val_loss']\n",
    "best_epoch = val_loss_per_epoch.index(max(val_loss_per_epoch)) + 1\n",
    "print('Best epoch: %d' % (best_epoch,))\n",
    "\n",
    "# Re-instantiate the hypermodel and train it with the optimal number of epochs from above.\n",
    "hypermodel = tuner.hypermodel.build(best_hps)\n",
    "# Retrain the model\n",
    "hypermodel.fit(train_in, train_out, epochs=best_epoch, validation_split=0.3)\n",
    "\n",
    "# )"
   ]
  },
  {
   "cell_type": "code",
   "execution_count": 11,
   "metadata": {},
   "outputs": [
    {
     "data": {
      "text/plain": [
       "0.001"
      ]
     },
     "execution_count": 11,
     "metadata": {},
     "output_type": "execute_result"
    }
   ],
   "source": [
    "best_hps.get('learning_rate')"
   ]
  },
  {
   "cell_type": "code",
   "execution_count": 13,
   "metadata": {},
   "outputs": [
    {
     "data": {
      "text/plain": [
       "True"
      ]
     },
     "execution_count": 13,
     "metadata": {},
     "output_type": "execute_result"
    }
   ],
   "source": [
    "best_hps.get('dropout')"
   ]
  },
  {
   "cell_type": "code",
   "execution_count": 15,
   "metadata": {},
   "outputs": [
    {
     "data": {
      "text/plain": [
       "{'space': [{'class_name': 'Boolean',\n",
       "   'config': {'name': 'dropout', 'default': False, 'conditions': []}},\n",
       "  {'class_name': 'Float',\n",
       "   'config': {'name': 'learning_rate',\n",
       "    'default': 0.0001,\n",
       "    'conditions': [],\n",
       "    'min_value': 0.0001,\n",
       "    'max_value': 100.0,\n",
       "    'step': 10,\n",
       "    'sampling': 'log'}}],\n",
       " 'values': {'dropout': True,\n",
       "  'learning_rate': 0.001,\n",
       "  'tuner/epochs': 20,\n",
       "  'tuner/initial_epoch': 7,\n",
       "  'tuner/bracket': 2,\n",
       "  'tuner/round': 2,\n",
       "  'tuner/trial_id': '0013'}}"
      ]
     },
     "execution_count": 15,
     "metadata": {},
     "output_type": "execute_result"
    }
   ],
   "source": [
    "best_hps.get_config()"
   ]
  },
  {
   "cell_type": "code",
   "execution_count": null,
   "metadata": {},
   "outputs": [],
   "source": [
    "# hypermodel.save('../results/const_demog_trained_300')"
   ]
  },
  {
   "cell_type": "code",
   "execution_count": 26,
   "metadata": {},
   "outputs": [],
   "source": [
    "model = tf.keras.saving.load_model('../results/const_demog_trained_300')"
   ]
  },
  {
   "cell_type": "code",
   "execution_count": 8,
   "metadata": {},
   "outputs": [
    {
     "name": "stdout",
     "output_type": "stream",
     "text": [
      "Model: \"sequential_2\"\n",
      "_________________________________________________________________\n",
      " Layer (type)                Output Shape              Param #   \n",
      "=================================================================\n",
      " conv1d_6 (Conv1D)           (None, 20, 148, 64)       704       \n",
      "                                                                 \n",
      " dropout_2 (Dropout)         (None, 20, 148, 64)       0         \n",
      "                                                                 \n",
      " conv1d_7 (Conv1D)           (None, 20, 146, 32)       6176      \n",
      "                                                                 \n",
      " conv1d_8 (Conv1D)           (None, 20, 73, 16)        1040      \n",
      "                                                                 \n",
      " average_pooling2d_4 (Averag  (None, 1, 73, 16)        0         \n",
      " ePooling2D)                                                     \n",
      "                                                                 \n",
      " average_pooling2d_5 (Averag  (None, 1, 18, 16)        0         \n",
      " ePooling2D)                                                     \n",
      "                                                                 \n",
      " global_average_pooling2d_2   (None, 16)               0         \n",
      " (GlobalAveragePooling2D)                                        \n",
      "                                                                 \n",
      " dense_2 (Dense)             (None, 2)                 34        \n",
      "                                                                 \n",
      "=================================================================\n",
      "Total params: 7,954\n",
      "Trainable params: 7,954\n",
      "Non-trainable params: 0\n",
      "_________________________________________________________________\n"
     ]
    }
   ],
   "source": [
    "model.summary()"
   ]
  },
  {
   "cell_type": "code",
   "execution_count": 23,
   "metadata": {},
   "outputs": [],
   "source": [
    "# reload tensor data only\n",
    "test_in = pickle.load(open('../data/processed_data/const_demog/test/tensors','rb'))\n",
    "test_out = pickle.load(open('../data/processed_data/const_demog/test/labels','rb'))"
   ]
  },
  {
   "cell_type": "code",
   "execution_count": 28,
   "metadata": {},
   "outputs": [],
   "source": [
    "from validate import plot_all_gamma_results"
   ]
  },
  {
   "cell_type": "code",
   "execution_count": 18,
   "metadata": {},
   "outputs": [
    {
     "name": "stdout",
     "output_type": "stream",
     "text": [
      "8/8 [==============================] - 0s 31ms/step\n"
     ]
    },
    {
     "name": "stderr",
     "output_type": "stream",
     "text": [
      "/home/lntran/miniconda3/envs/dfe-cnn/lib/python3.11/site-packages/scipy/stats/_stats_py.py:5445: ConstantInputWarning: An input array is constant; the correlation coefficient is not defined.\n",
      "  warnings.warn(stats.ConstantInputWarning(warn_msg))\n",
      "/mnt/c/Users/Linh/OneDrive/projects/dfe-cnn/modules/validate.py:133: UserWarning: The figure layout has changed to tight\n",
      "  plt.tight_layout()\n"
     ]
    },
    {
     "data": {
      "text/plain": [
       "<Figure size 640x480 with 0 Axes>"
      ]
     },
     "metadata": {},
     "output_type": "display_data"
    },
    {
     "data": {
      "text/plain": [
       "<Figure size 640x480 with 0 Axes>"
      ]
     },
     "metadata": {},
     "output_type": "display_data"
    },
    {
     "data": {
      "text/plain": [
       "<Figure size 640x480 with 0 Axes>"
      ]
     },
     "metadata": {},
     "output_type": "display_data"
    },
    {
     "data": {
      "text/plain": [
       "<Figure size 640x480 with 0 Axes>"
      ]
     },
     "metadata": {},
     "output_type": "display_data"
    },
    {
     "data": {
      "text/plain": [
       "<Figure size 640x480 with 0 Axes>"
      ]
     },
     "metadata": {},
     "output_type": "display_data"
    },
    {
     "data": {
      "image/png": "[encoded data removed]",
      "text/plain": [
       "<Figure size 640x480 with 1 Axes>"
      ]
     },
     "metadata": {},
     "output_type": "display_data"
    }
   ],
   "source": [
    "plot_all_gamma_results(hypermodel, test_in, test_out, '../results/plots/')"
   ]
  },
  {
   "cell_type": "code",
   "execution_count": 29,
   "metadata": {},
   "outputs": [
    {
     "name": "stdout",
     "output_type": "stream",
     "text": [
      "1/8 [==>...........................] - ETA: 0s"
     ]
    },
    {
     "name": "stdout",
     "output_type": "stream",
     "text": [
      "8/8 [==============================] - 0s 32ms/step\n"
     ]
    },
    {
     "data": {
      "text/plain": [
       "<Figure size 640x480 with 0 Axes>"
      ]
     },
     "metadata": {},
     "output_type": "display_data"
    },
    {
     "data": {
      "text/plain": [
       "<Figure size 640x480 with 0 Axes>"
      ]
     },
     "metadata": {},
     "output_type": "display_data"
    },
    {
     "data": {
      "text/plain": [
       "<Figure size 640x480 with 0 Axes>"
      ]
     },
     "metadata": {},
     "output_type": "display_data"
    },
    {
     "data": {
      "text/plain": [
       "<Figure size 640x480 with 0 Axes>"
      ]
     },
     "metadata": {},
     "output_type": "display_data"
    },
    {
     "data": {
      "text/plain": [
       "<Figure size 640x480 with 0 Axes>"
      ]
     },
     "metadata": {},
     "output_type": "display_data"
    },
    {
     "data": {
      "image/png": "[encoded data removed]",
      "text/plain": [
       "<Figure size 640x480 with 1 Axes>"
      ]
     },
     "metadata": {},
     "output_type": "display_data"
    }
   ],
   "source": [
    "# plot_all_gamma_results(hypermodel, test_in, test_out, '../results/plots/')\n",
    "plot_all_gamma_results(model, test_in, test_out, '../results/plots/')"
   ]
  },
  {
   "cell_type": "code",
   "execution_count": null,
   "metadata": {},
   "outputs": [],
   "source": [
    "# another tuning version, with both MLP and CNN\n",
    "\n",
    "def model_builder(hp):\n",
    "    inputs = keras.Input(shape=(20, 300, 2))\n",
    "    # Model type can be MLP or CNN.\n",
    "    model_type = hp.Choice(\"model_type\", [\"mlp\", \"cnn\"])\n",
    "    x = inputs\n",
    "    if model_type == \"mlp\":\n",
    "        x = layers.Flatten()(x)\n",
    "        # Number of layers of the MLP is a hyperparameter.\n",
    "        for i in range(hp.Int(\"mlp_layers\", 1, 3)):\n",
    "            # Number of units of each layer are\n",
    "            # different hyperparameters with different names.\n",
    "            x = layers.Dense(\n",
    "                units=hp.Int(f\"units_{i}\", 32, 128, step=32),\n",
    "                activation=\"relu\",\n",
    "            )(x)\n",
    "\n",
    "    else:\n",
    "        # Number of layers of the CNN is also a hyperparameter.\n",
    "        for i in range(hp.Int(\"cnn_layers\", 1, 3)):\n",
    "            x = layers.Conv1D(\n",
    "                hp.Int(f\"filters_{i}\", 32, 128, step=32),\n",
    "                kernel_size=hp.Int(\"kernel_size_{i}\", min_value=2, max_value=10),\n",
    "                strides=hp.Int(\"strides_{i}\", min_value=1, max_value=3),\n",
    "                activation=\"relu\",\n",
    "            )(x)\n",
    "            # x = layers.MaxPooling2D(pool_size=(2, 2))(x)\n",
    "\n",
    "        # for i in range(hp.Int(\"pooling_layers\", 1, 3)):\n",
    "        #     x = layers.AveragePooling2D(pool_size=(hp.Int(f\"filters_{i}\", 5, 20), 1))(x)\n",
    "\n",
    "        x = layers.AveragePooling2D(pool_size=(20, 1))(x)\n",
    "        x = layers.AveragePooling2D(pool_size=(1, 4))(x)\n",
    "        x = layers.GlobalAveragePooling2D()(x)\n",
    "\n",
    "    # Tune the learning rate for the optimizer\n",
    "    hp_learning_rate = hp.Float(\n",
    "        \"learning_rate\", min_value=1e-4, max_value=1e2, step=10, sampling=\"log\"\n",
    "    )\n",
    "        \n",
    "    # A hyperparamter for whether to use dropout layer.\n",
    "    if hp.Boolean(\"dropout\"):\n",
    "        x = layers.Dropout(0.2)(x)\n",
    "        \n",
    "    # final output layer\n",
    "    outputs = layers.Dense(units=2, activation=\"relu\")(x)\n",
    "    \n",
    "    # compile model\n",
    "    model = keras.Model(inputs=inputs, outputs=outputs)\n",
    "    model.compile(\n",
    "        optimizer=keras.optimizers.Adam(learning_rate=hp_learning_rate),\n",
    "        loss=\"mse\",\n",
    "        metrics=[\"mean_squared_error\"],\n",
    "    )\n",
    "\n",
    "    return model"
   ]
  },
  {
   "cell_type": "code",
   "execution_count": null,
   "metadata": {},
   "outputs": [],
   "source": [
    "# another tuning version, more extensive for CNN\n",
    "\n",
    "\n",
    "def model_builder(hp):\n",
    "    inputs = keras.Input(shape=(20, 300, 2))\n",
    "    x = inputs\n",
    "    # Number of layers of the CNN is also a hyperparameter.\n",
    "    for i in range(hp.Int(\"cnn_layers\", 1, 3)):\n",
    "        x = layers.Conv1D(\n",
    "            hp.Int(f\"filters_{i}\", 32, 128, step=32),\n",
    "            kernel_size=hp.Int(\"kernel_size_{i}\", min_value=2, max_value=10),\n",
    "            strides=hp.Int(\"strides_{i}\", min_value=1, max_value=3),\n",
    "            activation=\"relu\",\n",
    "        )(x)\n",
    "\n",
    "    # for i in range(hp.Int(\"pooling_layers\", 2, 4)):\n",
    "    #     x = layers.AveragePooling2D(\n",
    "    #         pool_size=((hp.Int(f\"pool_size_{i}\", min_value=1, max_value=20),) * 2)\n",
    "    #     )(x)\n",
    "\n",
    "    x = layers.AveragePooling2D(pool_size=(20, 1))(x)\n",
    "    x = layers.AveragePooling2D(pool_size=(1, 4))(x)\n",
    "    x = layers.GlobalAveragePooling2D()(x)\n",
    "\n",
    "    # Tune the learning rate for the optimizer\n",
    "    hp_learning_rate = hp.Float(\n",
    "        \"learning_rate\", min_value=1e-4, max_value=1e2, step=10, sampling=\"log\"\n",
    "    )\n",
    "\n",
    "    # A hyperparamter for whether to use dropout layer.\n",
    "    if hp.Boolean(\"dropout\"):\n",
    "        x = layers.Dropout(0.2)(x)\n",
    "\n",
    "    # final output layer\n",
    "    outputs = layers.Dense(units=2, activation=\"relu\")(x)\n",
    "\n",
    "    # compile model\n",
    "    model = keras.Model(inputs=inputs, outputs=outputs)\n",
    "    model.compile(\n",
    "        optimizer=keras.optimizers.Adam(learning_rate=hp_learning_rate),\n",
    "        loss=\"mse\",\n",
    "        metrics=[\"mean_squared_error\"],\n",
    "    )\n",
    "\n",
    "    return model"
   ]
  },
  {
   "cell_type": "code",
   "execution_count": null,
   "metadata": {},
   "outputs": [],
   "source": [
    "# We can do a quick test of the models to check if it build successfully for both CNN and MLP.\n",
    "hp = kt.HyperParameters()\n",
    "hp.values[\"model_type\"] = \"cnn\"\n",
    "# Build the model using the `HyperParameters`.\n",
    "model = model_builder(hp)\n",
    "# Test if the model runs with our data.\n",
    "model(train_in[:10])\n",
    "# Print a summary of the model.\n",
    "model.summary()\n",
    "\n",
    "# Do the same for MLP model.\n",
    "hp.values[\"model_type\"] = \"mlp\"\n",
    "model = model_builder(hp)\n",
    "model(train_in[:10])\n",
    "model.summary()"
   ]
  },
  {
   "cell_type": "code",
   "execution_count": null,
   "metadata": {},
   "outputs": [],
   "source": [
    "# instantiate the Hyperband tuner\n",
    "tuner = kt.Hyperband(model_builder,\n",
    "                objective='val_loss',\n",
    "                max_epochs=10)\n",
    "\n",
    "# Create a callback to stop training early after reaching a certain value for the val_loss\n",
    "stop_early = tf.keras.callbacks.EarlyStopping(monitor='val_loss', patience=5)\n",
    "\n",
    "# Run the hyperparameter search\n",
    "tuner.search(train_in, train_out, epochs=50, validation_split=0.2, callbacks=[stop_early])\n",
    "\n",
    "# Get the optimal hyperparameters\n",
    "best_hps=tuner.get_best_hyperparameters(num_trials=1)[0]\n",
    "print(\"The hyperparameter search is complete.\")\n",
    "\n",
    "# Build the model with the optimal hyperparameters and train it on the data\n",
    "model = tuner.hypermodel.build(best_hps)\n",
    "history = model.fit(train_in, train_out, epochs=50, validation_split=0.2)\n",
    "\n",
    "# Find the optimal number of epochs to train the model\n",
    "val_loss_per_epoch = history.history['val_loss']\n",
    "best_epoch = val_loss_per_epoch.index(max(val_loss_per_epoch)) + 1\n",
    "print('Best epoch: %d' % (best_epoch,))\n",
    "\n",
    "# Re-instantiate the hypermodel and train it with the optimal number of epochs from above.\n",
    "hypermodel = tuner.hypermodel.build(best_hps)\n",
    "# Retrain the model\n",
    "hypermodel.fit(train_in, train_out, epochs=best_epoch, validation_split=0.2)"
   ]
  },
  {
   "cell_type": "code",
   "execution_count": null,
   "metadata": {},
   "outputs": [],
   "source": [
    "plot_all_gamma_results(hypermodel, test_in, test_out, '../results/plots/')"
   ]
  }
 ],
 "metadata": {
  "kernelspec": {
   "display_name": "dfe-cnn",
   "language": "python",
   "name": "python3"
  },
  "language_info": {
   "codemirror_mode": {
    "name": "ipython",
    "version": 3
   },
   "file_extension": ".py",
   "mimetype": "text/x-python",
   "name": "python",
   "nbconvert_exporter": "python",
   "pygments_lexer": "ipython3",
   "version": "3.11.4"
  },
  "orig_nbformat": 4
 },
 "nbformat": 4,
 "nbformat_minor": 2
}
